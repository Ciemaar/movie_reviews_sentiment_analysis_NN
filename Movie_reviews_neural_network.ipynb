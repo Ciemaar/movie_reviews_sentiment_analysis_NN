{
 "cells": [
  {
   "cell_type": "code",
   "execution_count": 232,
   "metadata": {},
   "outputs": [],
   "source": [
    "import random\n",
    "import nltk\n",
    "import re\n",
    "\n",
    "from nltk.corpus import movie_reviews\n",
    "from nltk.classify.scikitlearn import SklearnClassifier\n",
    "from keras.wrappers.scikit_learn import KerasClassifier\n",
    "from sklearn.model_selection import GridSearchCV\n",
    "from sklearn.model_selection import StratifiedKFold\n",
    "\n",
    "from nltk.classify import ClassifierI\n",
    "from statistics import mode\n",
    "\n",
    "from keras.layers import Input, Dense, Dropout\n",
    "from keras.models import Model, Sequential\n",
    "\n",
    "# load nltk's SnowballStemmer as variabled 'stemmer'\n",
    "from nltk.stem.snowball import SnowballStemmer\n",
    "from nltk.stem.porter import PorterStemmer\n",
    "from nltk.stem import WordNetLemmatizer\n",
    "#stemmer = SnowballStemmer(\"english\")\n",
    "stemmer = PorterStemmer()\n",
    "#stemmer = WordNetLemmatizer()"
   ]
  },
  {
   "cell_type": "code",
   "execution_count": 233,
   "metadata": {
    "collapsed": true
   },
   "outputs": [],
   "source": [
    "def build_model(optimizer='adam', init='glorot_normal', epochs=200, batch_size=200):\n",
    "    model = Sequential()\n",
    "    model.add(Dense(1000, input_dim=200, kernel_initializer=init, activation='relu'))\n",
    "    model.add(Dropout(0.25))\n",
    "    model.add(Dense(750, kernel_initializer='glorot_normal', activation='relu'))\n",
    "    model.add(Dropout(0.25))\n",
    "    model.add(Dense(500, kernel_initializer='glorot_normal', activation='relu'))\n",
    "    model.add(Dropout(0.25))\n",
    "    model.add(Dense(250, kernel_initializer='glorot_normal', activation='relu'))\n",
    "    model.add(Dropout(0.25))\n",
    "    model.add(Dense(125, kernel_initializer='glorot_normal', activation='relu'))\n",
    "    model.add(Dropout(0.25))\n",
    "    model.add(Dense(50, kernel_initializer='glorot_normal', activation='relu'))\n",
    "    model.add(Dropout(0.1))\n",
    "    model.add(Dense(25, kernel_initializer='glorot_normal', activation='relu'))\n",
    "    model.add(Dropout(0.1))\n",
    "    model.add(Dense(1, activation='sigmoid'))\n",
    "\n",
    "    model.compile(loss='binary_crossentropy', optimizer=optimizer, metrics=['accuracy'])\n",
    "    # Fit the model\n",
    "    #model.fit(X_train, Y_train, epochs=50, batch_size=100)\n",
    "    \n",
    "    return model\n",
    "\n",
    "    "
   ]
  },
  {
   "cell_type": "code",
   "execution_count": 234,
   "metadata": {
    "collapsed": true
   },
   "outputs": [],
   "source": [
    "def tokenize(text):\n",
    "    # first tokenize by sentence, then by word to ensure that punctuation is caught as it's own token\n",
    "    tokens = [word for sent in nltk.sent_tokenize(text) for word in nltk.word_tokenize(sent)]\n",
    "    filtered_tokens = []\n",
    "    # filter out any tokens not containing letters (e.g., numeric tokens, raw punctuation)\n",
    "    for token in tokens:\n",
    "        if re.search('[a-zA-Z]', token):\n",
    "            filtered_tokens.append(token)\n",
    "    stems = [stemmer.stem(t) for t in filtered_tokens]\n",
    "    #stems = [stemmer.lemmatize(t) for t in filtered_tokens]\n",
    "    return stems"
   ]
  },
  {
   "cell_type": "code",
   "execution_count": 235,
   "metadata": {},
   "outputs": [],
   "source": [
    "from sklearn.feature_extraction.text import CountVectorizer\n",
    "from sklearn.feature_extraction.text import TfidfVectorizer\n",
    "from sklearn.model_selection import train_test_split\n",
    "from numpy.random import seed\n",
    "import pandas as pd\n",
    "from sklearn import preprocessing\n",
    "\n",
    "labels = []\n",
    "X = [movie_reviews.raw(fileid) for fileid in movie_reviews.fileids()]\n",
    "y = [movie_reviews.categories(fileid)[0] for fileid in movie_reviews.fileids()]\n",
    "for i in y:\n",
    "    if i == 'pos':\n",
    "        labels.append(1)\n",
    "    else:\n",
    "        labels.append(0)\n",
    "#random.shuffle(documents)\n",
    "\n",
    "#count_vect = CountVectorizer()\n",
    "#X_train_counts = count_vect.fit_transform(X)\n",
    "\n",
    "X_train, X_test, Y_train, Y_test = train_test_split(X, labels, train_size = 0.9, random_state = seed(2017))\n",
    "vectorizer = TfidfVectorizer(min_df=5, max_df = 0.8, sublinear_tf=True, use_idf=True, ngram_range=(1,4), tokenizer=tokenize, stop_words='english')\n",
    "X_result_train = vectorizer.fit_transform(X_train)\n",
    "X_result_test = vectorizer.transform(X_test)\n"
   ]
  },
  {
   "cell_type": "code",
   "execution_count": 236,
   "metadata": {},
   "outputs": [
    {
     "name": "stdout",
     "output_type": "stream",
     "text": [
      "20849\n"
     ]
    }
   ],
   "source": [
    "from sklearn.decomposition import TruncatedSVD \n",
    "\n",
    "X_train_svd = X_result_train.todense()\n",
    "X_test_svd = X_result_test.todense()\n",
    "ncol = X_train_svd.shape[1]\n",
    "print(ncol)\n",
    "\n",
    "svd = TruncatedSVD(n_components=200, random_state=0)\n",
    "X_train_svd = svd.fit_transform(X_train_svd)\n",
    "X_test_svd = svd.transform(X_test_svd)\n",
    "#print(X_train_svd[4])\n",
    "#print(len(X_train_svd[4]))"
   ]
  },
  {
   "cell_type": "code",
   "execution_count": 237,
   "metadata": {
    "scrolled": true
   },
   "outputs": [
    {
     "name": "stdout",
     "output_type": "stream",
     "text": [
      "Epoch 1/50\n",
      "1800/1800 [==============================] - 3s - loss: 0.6927 - acc: 0.5006     \n",
      "Epoch 2/50\n",
      "1800/1800 [==============================] - 1s - loss: 0.6664 - acc: 0.5511     \n",
      "Epoch 3/50\n",
      "1800/1800 [==============================] - 1s - loss: 0.4788 - acc: 0.8311     \n",
      "Epoch 4/50\n",
      "1800/1800 [==============================] - 1s - loss: 0.3149 - acc: 0.8844     \n",
      "Epoch 5/50\n",
      "1800/1800 [==============================] - 1s - loss: 0.2961 - acc: 0.8956     \n",
      "Epoch 6/50\n",
      "1800/1800 [==============================] - 1s - loss: 0.2044 - acc: 0.9289     \n",
      "Epoch 7/50\n",
      "1800/1800 [==============================] - 1s - loss: 0.1535 - acc: 0.9456     \n",
      "Epoch 8/50\n",
      "1800/1800 [==============================] - 1s - loss: 0.1251 - acc: 0.9622     \n",
      "Epoch 9/50\n",
      "1800/1800 [==============================] - 1s - loss: 0.1077 - acc: 0.9656     \n",
      "Epoch 10/50\n",
      "1800/1800 [==============================] - 1s - loss: 0.0990 - acc: 0.9672     \n",
      "Epoch 11/50\n",
      "1800/1800 [==============================] - 1s - loss: 0.0690 - acc: 0.9778     \n",
      "Epoch 12/50\n",
      "1800/1800 [==============================] - 1s - loss: 0.0469 - acc: 0.9861     \n",
      "Epoch 13/50\n",
      "1800/1800 [==============================] - 1s - loss: 0.0351 - acc: 0.9900     \n",
      "Epoch 14/50\n",
      "1800/1800 [==============================] - 1s - loss: 0.0308 - acc: 0.9933     \n",
      "Epoch 15/50\n",
      "1800/1800 [==============================] - 1s - loss: 0.0506 - acc: 0.9822     \n",
      "Epoch 16/50\n",
      "1800/1800 [==============================] - 1s - loss: 0.1005 - acc: 0.9750     \n",
      "Epoch 17/50\n",
      "1800/1800 [==============================] - 1s - loss: 0.0655 - acc: 0.9861     \n",
      "Epoch 18/50\n",
      "1800/1800 [==============================] - 1s - loss: 0.0587 - acc: 0.9878     \n",
      "Epoch 19/50\n",
      "1800/1800 [==============================] - 1s - loss: 0.0339 - acc: 0.9922     \n",
      "Epoch 20/50\n",
      "1800/1800 [==============================] - 1s - loss: 0.0335 - acc: 0.9933     \n",
      "Epoch 21/50\n",
      "1800/1800 [==============================] - 1s - loss: 0.0176 - acc: 0.9950     \n",
      "Epoch 22/50\n",
      "1800/1800 [==============================] - 1s - loss: 0.0167 - acc: 0.9956     \n",
      "Epoch 23/50\n",
      "1800/1800 [==============================] - 1s - loss: 0.0106 - acc: 0.9983     \n",
      "Epoch 24/50\n",
      "1800/1800 [==============================] - 1s - loss: 0.0048 - acc: 0.9989     \n",
      "Epoch 25/50\n",
      "1800/1800 [==============================] - 1s - loss: 0.0054 - acc: 0.9978     \n",
      "Epoch 26/50\n",
      "1800/1800 [==============================] - 1s - loss: 0.0053 - acc: 0.9989     \n",
      "Epoch 27/50\n",
      "1800/1800 [==============================] - 1s - loss: 0.0101 - acc: 0.9983     \n",
      "Epoch 28/50\n",
      "1800/1800 [==============================] - 1s - loss: 0.0112 - acc: 0.9972     \n",
      "Epoch 29/50\n",
      "1800/1800 [==============================] - 1s - loss: 0.0217 - acc: 0.9933     \n",
      "Epoch 30/50\n",
      "1800/1800 [==============================] - 1s - loss: 0.0505 - acc: 0.9850     \n",
      "Epoch 31/50\n",
      "1800/1800 [==============================] - 1s - loss: 0.0259 - acc: 0.9933     \n",
      "Epoch 32/50\n",
      "1800/1800 [==============================] - 1s - loss: 0.0257 - acc: 0.9917     \n",
      "Epoch 33/50\n",
      "1800/1800 [==============================] - 1s - loss: 0.0234 - acc: 0.9928     \n",
      "Epoch 34/50\n",
      "1800/1800 [==============================] - 1s - loss: 0.0171 - acc: 0.9944     \n",
      "Epoch 35/50\n",
      "1800/1800 [==============================] - 1s - loss: 0.0073 - acc: 0.9972     \n",
      "Epoch 36/50\n",
      "1800/1800 [==============================] - 1s - loss: 0.0057 - acc: 0.9983     \n",
      "Epoch 37/50\n",
      "1800/1800 [==============================] - 1s - loss: 0.0076 - acc: 0.9994     \n",
      "Epoch 38/50\n",
      "1800/1800 [==============================] - 1s - loss: 0.0085 - acc: 0.9978     \n",
      "Epoch 39/50\n",
      "1800/1800 [==============================] - 1s - loss: 0.0048 - acc: 0.9989     \n",
      "Epoch 40/50\n",
      "1800/1800 [==============================] - 1s - loss: 0.0067 - acc: 0.9983     \n",
      "Epoch 41/50\n",
      "1800/1800 [==============================] - 1s - loss: 0.0035 - acc: 0.9994     \n",
      "Epoch 42/50\n",
      "1800/1800 [==============================] - 1s - loss: 0.0019 - acc: 0.9994     \n",
      "Epoch 43/50\n",
      "1800/1800 [==============================] - 1s - loss: 0.0037 - acc: 0.9994     \n",
      "Epoch 44/50\n",
      "1800/1800 [==============================] - 1s - loss: 0.0024 - acc: 0.9989     \n",
      "Epoch 45/50\n",
      "1800/1800 [==============================] - 1s - loss: 0.0041 - acc: 0.9989     \n",
      "Epoch 46/50\n",
      "1800/1800 [==============================] - 1s - loss: 0.0022 - acc: 0.9994        \n",
      "Epoch 47/50\n",
      "1800/1800 [==============================] - 1s - loss: 0.0040 - acc: 0.9989     \n",
      "Epoch 48/50\n",
      "1800/1800 [==============================] - 1s - loss: 5.9493e-04 - acc: 1.0000     \n",
      "Epoch 49/50\n",
      "1800/1800 [==============================] - 1s - loss: 4.2408e-04 - acc: 1.0000     \n",
      "Epoch 50/50\n",
      "1800/1800 [==============================] - 1s - loss: 1.9791e-04 - acc: 1.0000     \n"
     ]
    },
    {
     "data": {
      "text/plain": [
       "<keras.callbacks.History at 0x2405c57f0>"
      ]
     },
     "execution_count": 237,
     "metadata": {},
     "output_type": "execute_result"
    }
   ],
   "source": [
    "# Load scikit's random forest classifier library\n",
    "from sklearn.ensemble import RandomForestClassifier\n",
    "from sklearn.naive_bayes import MultinomialNB, BernoulliNB, GaussianNB\n",
    "from sklearn.linear_model import LogisticRegression, SGDClassifier\n",
    "from sklearn.svm import SVC, LinearSVC, NuSVC\n",
    "from sklearn.neural_network import MLPClassifier\n",
    "\n",
    "model = build_model()\n",
    "model.fit(X_train_svd, Y_train, epochs=50, batch_size=250)"
   ]
  },
  {
   "cell_type": "code",
   "execution_count": 239,
   "metadata": {},
   "outputs": [
    {
     "name": "stdout",
     "output_type": "stream",
     "text": [
      "88.0\n"
     ]
    }
   ],
   "source": [
    "from sklearn.metrics import accuracy_score\n",
    "from sklearn.metrics import confusion_matrix\n",
    "from sklearn.ensemble import VotingClassifier, GradientBoostingClassifier\n",
    "\n",
    "#eclf3 = GradientBoostingClassifier(n_estimators=1000, random_state=5)\n",
    "#eclf3.fit(X_train_svd, Y_train)\n",
    "\n",
    "combined_features_test1 = model.predict(X_test_svd)\n",
    "#combined_features_test1 = eclf3.predict(X_test_svd)\n",
    "combined_features_test1 = np.rint(combined_features_test1)\n",
    "\n",
    "print(accuracy_score(Y_test, combined_features_test1) * 100)"
   ]
  },
  {
   "cell_type": "code",
   "execution_count": null,
   "metadata": {
    "collapsed": true
   },
   "outputs": [],
   "source": []
  },
  {
   "cell_type": "code",
   "execution_count": null,
   "metadata": {
    "collapsed": true
   },
   "outputs": [],
   "source": []
  }
 ],
 "metadata": {
  "kernelspec": {
   "display_name": "Python 3",
   "language": "python",
   "name": "python3"
  },
  "language_info": {
   "codemirror_mode": {
    "name": "ipython",
    "version": 3
   },
   "file_extension": ".py",
   "mimetype": "text/x-python",
   "name": "python",
   "nbconvert_exporter": "python",
   "pygments_lexer": "ipython3",
   "version": "3.5.3"
  }
 },
 "nbformat": 4,
 "nbformat_minor": 2
}
